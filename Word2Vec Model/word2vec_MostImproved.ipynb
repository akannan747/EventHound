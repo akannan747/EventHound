{
 "cells": [
  {
   "cell_type": "code",
   "execution_count": 1,
   "metadata": {},
   "outputs": [
    {
     "name": "stderr",
     "output_type": "stream",
     "text": [
      "/Users/rvenguswamy/anaconda3/lib/python3.6/site-packages/smart_open/ssh.py:34: UserWarning: paramiko missing, opening SSH/SCP/SFTP paths will be disabled.  `pip install paramiko` to suppress\n",
      "  warnings.warn('paramiko missing, opening SSH/SCP/SFTP paths will be disabled.  `pip install paramiko` to suppress')\n"
     ]
    }
   ],
   "source": [
    "# imports needed and logging\n",
    "import gensim, pandas as pd, re\n",
    "import numpy as np\n",
    "\n",
    "event_data = pd.read_csv('event_data4.csv')\n",
    "descriptions = []\n",
    "\n",
    "for description in event_data[' description']:\n",
    "    description = re.sub(\"[^a-zA-Z]\", \" \", description)\n",
    "    description = description.lower().split()\n",
    "    descriptions += [description]"
   ]
  },
  {
   "cell_type": "code",
   "execution_count": 2,
   "metadata": {},
   "outputs": [
    {
     "data": {
      "text/plain": [
       "(17464338, 21652400)"
      ]
     },
     "execution_count": 2,
     "metadata": {},
     "output_type": "execute_result"
    }
   ],
   "source": [
    "model = gensim.models.Word2Vec(descriptions, size=100, window=10, min_count=2, workers=10)  \n",
    "model.train(descriptions, total_examples=len(descriptions), epochs=10)"
   ]
  },
  {
   "cell_type": "code",
   "execution_count": 3,
   "metadata": {},
   "outputs": [
    {
     "data": {
      "text/plain": [
       "[('dancers', 0.5898144841194153),\n",
       " ('djs', 0.5778520107269287),\n",
       " ('performers', 0.5598466396331787),\n",
       " ('dancing', 0.5462778210639954),\n",
       " ('disco', 0.5376554727554321),\n",
       " ('hop', 0.5258179903030396),\n",
       " ('mix', 0.5219536423683167),\n",
       " ('trefft', 0.5212621688842773),\n",
       " ('sing', 0.5173811912536621),\n",
       " ('rave', 0.5113421678543091)]"
      ]
     },
     "execution_count": 3,
     "metadata": {},
     "output_type": "execute_result"
    }
   ],
   "source": [
    "model.wv.most_similar(positive=['dance'])"
   ]
  },
  {
   "cell_type": "code",
   "execution_count": 9,
   "metadata": {},
   "outputs": [],
   "source": [
    "def find_sim_event(query, description):\n",
    "    \n",
    "    sims = model.wv.most_similar(positive = query)\n",
    "    sims = list(zip(*sims))\n",
    "    sim_words = list(sims[0])\n",
    "    sim_words.append(query)\n",
    "    \n",
    "    \n",
    "    description_total = 0\n",
    "\n",
    "        ##finding ones that have similar words\n",
    "    simcount = 0\n",
    "    for sim_word in sim_words:\n",
    "        simcount += description.count(sim_word)\n",
    "    if len(description) > 0:\n",
    "        description_score_sim = simcount/len(description)\n",
    "    else:\n",
    "        description_score_sim = 0\n",
    "    \n",
    "        #### adding similarity across all words\n",
    "    for word in description:\n",
    "        try:\n",
    "            word_score = model.wv.similarity(w1=query, w2=word)\n",
    "        except:\n",
    "            word_score = 0\n",
    "\n",
    "        description_total += word_score\n",
    "    if len(description) > 0:\n",
    "        description_score = description_total\n",
    "    else:\n",
    "        description_score = 0\n",
    "    description_score = description_score*description_score_sim\n",
    "    return description_score\n",
    "    \n",
    "        ##combining both\n",
    "def comb_str_sim(lquery, top):\n",
    "    \n",
    "    event_scores = []\n",
    "    \n",
    "    for i in range(len(descriptions)):\n",
    "        \n",
    "        description = descriptions[i]\n",
    "        score = 0\n",
    "        \n",
    "        for query in lquery:\n",
    "            score += find_sim_event(query, description)\n",
    "        score = score/len(lquery)\n",
    "        \n",
    "    \n",
    "        event_scores.append((event_data['url'][i], score, event_data[' description'][i]))\n",
    "    event_scores.sort(key=lambda event: event[1], reverse=True)\n",
    "    return(event_scores[:top])\n",
    "    "
   ]
  },
  {
   "cell_type": "code",
   "execution_count": 10,
   "metadata": {},
   "outputs": [
    {
     "name": "stdout",
     "output_type": "stream",
     "text": [
      "[('https://www.eventbrite.co.uk/e/magaluf-69-events-package-2019-tickets-24907589270?aff=ebapi', 3.6749726987303672, 'MAGALUF    EVENTS PACKAGE  Magaluf      s Best Value Events Package  The Very Best Magaluf Events Put Together For Your Partying Needs    MAGALUF SUNSET BOOZE CRUISE VIP  Sold separately in Magaluf for         The boat party takes place every Wednesday  Friday  Saturday throughout the summer  The Sunset Booze Cruise has featured on Geordie Shore  Magaluf Weekender and not to mention the Inbetweeners  Enjoy the unlimited free bar  live DJ s  swim stops and crazy games    MAGALUF FULL MOON PARTY  Sold separately in Magaluf for         The party takes place at the exclusive Ocean Beach Club every Sunday   Thursday throughout the summer expect UV body painters  live DJ s  fire breathers Go Go Dancers    MAGALUF WHITE PARTY  Sold separately in Magaluf for         Every Monday   Friday The White Party Magaluf is new for Summer       Magaluf White Party brings its class and is already labeled the hottest new event of the Summer    CHAMPAGNE POOL PARTY MAGALUF  Sold separately in Magaluf for         Every Thursday   Sunday This is your opportunity to chill and party amongst hundreds of half naked bronzed bodies around the pool at the   star resort of Ocean Beach Club  with great views overlooking the Magaluf beach  Expect line ups from the Radio   team and Magaluf s infamous Don Simon and expect many more VIP celebrity appearances throughout the summer     Total Price                                Package Price                          Saving                                     Save          book the Magaluf    Events Package which includes   The Magaluf    events package is only available online   FAQ S  Where do I pay the remaining balance and collect my Magaluf    Events Package tickets  You pay your remaining balance     at the Magaluf Ticket Office at the Linekers Bar situated near to the beach in Magaluf  this is where you collect your tickets   wristbands  You need to come to the office as soon as you arrive in Magaluf so you can make the most of the events package  All the details you receive in your booking confirmation email which you can print out or show on your mobile phone and show when you arrive   Can I buy the    Events Package in Magaluf  You can only purchase the    events package online  Hotel reps in Magaluf put a commission on top of the tickets and only offer individual events sold at an over inflated price it is far safer and cheaper to book online for events   What months of the year can I use the Magaluf    events package  You can use the events package for one week anytime in the summer between April and September your one week starts as soon as you come to the ticket office to collect your event tickets and wristbands  The ticket office is open between   am and   pm every day   What are the days of the parties  All throughout the summer the Sunset Booze cruise is every Wednesday  Friday  Saturday  The Full Moon Party is every Thursday   Sunday  The White Parties are every Monday and Friday The Pool Parties are every Thursday   Sunday   Do I need to print out the email confirmation  You can print out the booking confirmation or you can show on your mobile phone if you lose these its not the end of the world as we have your booking name on our guest list   Do I need to pay the remaining balance in Pounds or Euros  You can pay the remaining balance in Pounds or Euros   How old do I have to be to book the ultimate events package  it is    to drink in Spain if you are a group of friends and one of you or a couple of you are    you can still come to the events aslong as there are people in the group over      How do I contact you with any questions   Whatsapp or Text                or Call                Twitter  magaluf k   Or you can message us through the contact us below   Where can I find any more information about the Magaluf    Events Package      What is the refund policy  We do not refund the ultimate events package so please make sure you are      coming to Magaluf  '), ('https://www.eventbrite.co.uk/e/tenerife-ultimate-events-package-2019-tickets-24932741501?aff=ebapi', 2.930947442392286, '     Tenerife      Ultimate Events Package  The Best Tenerife Party Events Put Together in One package The Boat Party  Club Tours and a One Week Pass to The Pool Parties at Kaluna Beach Club This Package Will Make Your Tenerife      Holiday One To Remember Normally     but here online you save     and you get this amazing event package for only       TENERIFE BOAT PARTY      The Tenerife boat party is far more than a booze cruise just think of the boat party as a club in the middle of the ocean  The boat party sails every Saturday and Wednesday  Enjoy an unlimited   and a half hours free bar onboard    Tenerife Club Tour The Club Tour is every Monday and Thursday and you can go on both of these events with the package meeting at the Veronicas Bar Strip at       in Playa de las americas  The Reps will have the shots waiting for you with a   hour unlimited shots bar which are all top shelf spirits  Throughout the night expect DJ s  Live Singers  Go Go Dancers  Bongo Players   Saxophonists  The reps take you around the best bars and clubs in Tenerife this is the Ultimate Club Night Experience and it will get messy    Pool Party Tenerife At Kaluna Beach Club  The Infinity Pool Party is every Wednesday  Thursday  Friday  Saturday and Sunday at Tenerife s   star Beach Club Kaluna  The event package gives you entrance to the VIP Infinity pool party you can choose any day between Wednesday and Sunday for the free entrance Saturdays and Thursdays are the busiest days of the party  enjoy great drink deals and enjoy the music from the DJ s and Sax players    Tenerife      Wristband We Include the Tenerife      wristband with your Tenerife ultimate events package which gives you drink deals   for   and free shots in the best bars and clubs such as The Sound of Cream  Tramps  Linekers  Rumours and Rah Rah s and many more  The Wristband also gives you discounts on excursions such as watersports and also great discounts on many restaurants in the resort  Champagne on Arrival at Your Hotel  The Tenerife Ultimate Events Package is only     You reserve online with a     deposit reservation and pay the remaining balance on Arrival in Tenerife where a reps will come to your hotel with all your Event Tickets  Wristbands and a Free bottle of Champagne  Save    Eur and book the Tenerife Ultimate Event Package  FAQ s  Where do I pay the remaining balance and collect my Tenerife ultimate event tickets and merchandise  You pay your remaining balance     on arrival in Tenerife and you receive All the event tickets and wristbands and a Free bottle of Champagne All the details you receive in your booking confirmation email which you can print out or show on your mobile phone and produce in the office when you arrive   Can I buy the Ultimate Events Package in Tenerife  You can only purchase the ultimate events package online  Hotel reps in Tenerife put a commission on top of the tickets and only offer individual events sold at an over inflated price it is far cheaper to book online for events   What months of the year can I use the Tenerife ultimate events package  You can use the events package for one week anytime in the season between February and the end of October your one week event package starts as soon as you arrive   What are the days of the parties  The Boat Party is every Saturday   Wednesday  The Club Tours are every Monday   Thursday The Infinity Pool Party at Kaluna is every day except Monday and Tuesday and the busiest days are Saturday and Thursdays  You can use the Tenerife      wristband every day of your holiday for discounted drinks in the most popular bars and clubs and it gives you many other great discounts in the resort   Do I need to print out the email confirmation  You can print out the booking confirmation or you can show on your mobile phone if you lose these its not the end of the world as we have your booking name on our guest list   How do I contact you with any questions  Whatsapp or Text                Email info mypartyholiday com or Call                Twitter  tenerife     Or you can messgae us through the contact us button below   What is the refund policy  We do not refund the ultimate events package so please make sure you are      coming to Tenerife      '), ('https://www.eventbrite.com/e/game-of-crawls-wynwood-a-got-themed-bar-crawl-tickets-58329788969?aff=ebapi', 2.501384443913897, 'Winter is Coming to Wynwood  Join Where Locals Go Saturday April   th       for the OFFICIAL GoT Themed Bar Crawl as we drop you into the center of the   kingdoms  Conquer Wynwood as Winter Falls on SHOTs Miami  Yes  There will be SNOW  along side fellow GoT Fans of and enjoy   FREE Drinks  Themed Drink Specials    much more  So  if you DRINK AND YOU KNOW THINGS like Tyrion Lannister the time has come to roam freely from bar to bar in Wynwood s most sought after hot spots while receiving   FREE Drinks and THEMED Drink Specials between multiple venues  So gather your loyal friends and maybe even your bitter enemies and come dressed as your favorite character  or don t  for a crawl so HUGE that it would even make Cersei Lannister smile  SHOTs Miami will be transformed into a Hall of Faces in which the attendees can submit their photo for a chance to be a part of the Hall of Faces  Only     submissions will be accepted  You must submit    A High Quality Selfie with your eyes closed with a plain background    An IG handle is a must as it will be displayed at the bottom of your picture   must have an instagram    Must e mail wherelocalsgomiami gmail com with name  picture  and IG handle        NOT ALL SUBMISSIONS WILL BE ACCEPTED    Participating Venues    SHOTS  Check In Venue  PM  PM ONLY     FREE Select Drink   Drink Specials  TBA    El Patio   PM  PM ONLY     FREE Select Drink   Drink Specials  TBA    Centro    FREE Select Drink   Drink Specials  TBA    Booze Garden Wynwood  New Venue        FREE Select Drink   Drink Specials  TBA    Barter  New Venue        FREE Select Drink   Drink Specials  TBA    Butcher Shop    FREE Select Drink   Drink Specials  TBA    Brick     Bacardis      Titos Vodka   More Venues will be announced soon   Venues subject to change  Questions  Please contact us by email or call text us at                 What does my ticket get me      FREE drinks   Ridiculous THEMED drink specials at all participating bars    Giveaways  while supplies last   Beads   More   Crowns  while supplies last    No Cover at Participating Bars  Ticket Prices    Early Bird Group Tickets    or more       each    Early Bird General Admission      each    Group Tickets    or more       each  Round      General Admission      each  Round     Frequently Asked Questions   Where do I check in  SHOTs Miami located at     NW   rd St from  PM  PM ONLY   What time is Check in  Check in time is from  pm  pm ONLY  Free drinks and drink specials are up to MIDNIGHT    Do I have to wait in line to get into a venue   Yes  you have to make the line  however you do not have to pay cover during event time    Is there a dresscode  No  there is no dresscode  Although rare  some venues may have one  Ex  No shorts  men   no flip flops  etc    Will there be a guide  Nope  This is a free roam bar crawl allowing you the freedom to go from bar to bar as you please    How old do I have to be  You must be    to attend this event    Is there transportation between venues  No  but all venues are in walking distance  We highly reccommend you to not drink   drive  Always have a designated driver or use transportation services such as UBER  Lyft  Taxis  or FREEBEE     Are there refunds for this event  Unfortunately  there are no refunds for our events  Event will go on rain or shine   '), ('https://www.eventbrite.com/e/all-white-masquerade-boat-party-with-a-splash-of-red-w-dj-biz-markie-essence-weekend-friday-tickets-49485656932?aff=ebapi', 2.196289062627205, '  The OFFICIAL Welcome to New Orleans   All White Masquerade Boat Party With A Splash of Red W  DJ Biz Markie  Get Ready for The Biggest   Livest All White Boat Ride Party at Essence Festival  This boat cruise party will SELL OUT Food will be available to purchase Cash bar    Boards      pm sharp   Ticket Types Description  General Admission Boat Party  Does not include food or drinks    VIP Boat Party  Access to the VIP area on the boat which includes open bar and buffet    General Admission Boat Party w  General Admission Afterparty This ticket does not include food or drinks on the boat   For the    Shades of Black  Masquerade Edition   aka   The Afterparty  you will receive general admission ticket that does not includes NO FOOD OR DRINKS   We will provide you with one drink ticket for the after party ONLY   Must be       Will Id   The afterparty ticket will be sent to your email address in June   Must purchase the General Admission Boat Party w  General Admission Afterparty to receive  afterparty  ticket   The after party will be held at Bourbon Heat    Color Attire   White w splash of Red Attire   Casual   Mask      Shades of Black   Masquerade Edition afterparty to follow    Purchase the afterparty tickets at  https     shadesofblackmasqueradeheat eventbrite com      '), ('https://www.eventbrite.com/e/3rd-annual-taco-tequila-crawl-atl-tickets-54247720392?aff=ebapi', 1.87843383418636, 'The Taco Crawl is back again for the  rd year and it will be better than ever  Come stroll through Midtown eating the BEST tacos  enjoying exclusive margarita  tequila  and beer specials  Your General Admission Ticket Includes      Tacos  Taco Crawl Signature Koozie Exclusive drink specials at every stop  Margs  Beer  and Tequila  The Taco Crawl Signature Crawl Map Professional photographer on site Exclusive party stops to dance off the tacos   margaritas More to come   VIP Ticket Includes   Signature Taco Crawl T Shirt pictured below   Tacos Early registration starting at   am  extra hour of crawling  Complimentary shot of tequila upon arrival at VIP check in  Taco Crawl Signature Koozie Exclusive drink specials at every stop  Margs  Beer  and Tequila  The Taco Crawl Signature Crawl Map Professional photographer on site Exclusive party stops to dance off the tacos   margaritas More to come   Participating Bars  Cantinas  and Specials   Escorpi n   Registration Senor Patron Fado Irish Pub   Restaurant Midtown Atlanta Hudson Grille Ri Ra Irish Pub Rreal Tacos Publico ATL Midtown Tin Lizzy Midtown More restaurants to come including tacos and drink specials   This is a rain or shine event  Refunds given until    days from event  VIP Ticket includes our awesome Taco Crawl T shirt  pictured below  as well as an additional taco ticket for all you taco lovers   Sizes included  Small  Medium  Large  XL   X   X  We are only selling a limited amount of tickets to the event this year  This event will sell out so buy early and tell your taco lovin  friends   FAQ Guided or Free Flowing  This is a free flowing event with    restaurants serving delicious tacos   drink specials  This is a     as we ll have exclusive party stops as well  Do I have to go to all the stops  No  We ll share the map in advance of what signature tacos are offered  what drink specials  and more  You can pick which ones you like  All within walking distance  What is this crawl like  Imagine a massive crawl with all of margarita specials  tequila specials  and beer specials  BUT you get   free tacos Is this event      Yes Advice  If you are coming in large groups  it may be difficult for you to get tables for anything    without a wait  Please be flexible and order at the bar  grab a drink  and get your taco  Have fun  grab a drink  and let s get Taco d '), ('https://www.eventbrite.com/e/taco-tequila-crawl-orlando-tickets-54285308820?aff=ebapi', 1.87143749241354, 'The Taco Crawl is here Orlando and it will be better than ever  Come stroll through Downtown eating the BEST taco s  enjoying exclusive margarita  tequila  and beer specials  Your General Admission Ticket Includes      Tacos  Taco Crawl Signature Koozie Exclusive drink specials at every stop  Margs  Beer  and Tequila  The Taco Crawl Signature Crawl Map Professional photographer on site Exclusive party stops to dance off the tacos   margaritas More to come   VIP Ticket Includes   Signature Taco Crawl T Shirt pictured below   Tacos Early registration starting at   am  Taco Crawl Signature Koozie Exclusive drink specials at every stop  Margs  Beer  and Tequila  The Taco Crawl Signature Crawl Map Professional photographer on site Exclusive party stops to dance off the tacos   margaritas More to come   Participating Bars  Cantinas  and Specials       Sideshow  Registration location Wall Street Cantina   Chela Tequila and Tacos Jimmy Hula s Dapper Duck Downtown PourHouse Underground Public House The Other Bar Swiggs  Margarita Party Stop  Basement  Margarita Party Stop  More restaurants to come      This is a rain or shine event  Refunds given until    days from event  VIP Ticket includes our awesome Taco Crawl T shirt  pictured below    Sizes included  Small  Medium  Large  XL   X   X  FAQ  Is this the same company that did the Taco Crawl last year  No  we are a different company  Check out our Facebook page  Bar Crawl USA and The Taco Crawl to view all our awesome past events   Guided or Free Flowing  This is a free flowing event with    restaurants serving delicious tacos   drink specials  This is a     as we ll have exclusive party stops as well  Do I have to go to all the stops  No  We ll share the map in advance of what signature tacos are offered  what drink specials  and more  You can pick which ones you like  All within walking distance  What is this crawl like  Imagine a massive crawl with all of margarita specials  tequila specials  and beer specials  BUT you get   free tacos Is this event      Yes Advice  If you are coming in large groups  it may be difficult for you to get tables for anything    without a wait  Please be flexible and order at the bar  grab a drink  and get your taco  Have fun  grab a drink  and let s get Taco d ')]\n"
     ]
    }
   ],
   "source": [
    "comb_str_sim(['party','drinks'], 6)"
   ]
  },
  {
   "cell_type": "code",
   "execution_count": 11,
   "metadata": {},
   "outputs": [
    {
     "name": "stdout",
     "output_type": "stream",
     "text": [
      "['basketball', 'game']\n"
     ]
    }
   ],
   "source": [
    "alexaquery = 'basketball game'\n",
    "stringquerylist = alexaquery.split()\n",
    "comb_str_sim(stringquerylist)"
   ]
  },
  {
   "cell_type": "code",
   "execution_count": null,
   "metadata": {},
   "outputs": [],
   "source": [
    "model.save(\"modelw2v\")"
   ]
  },
  {
   "cell_type": "code",
   "execution_count": null,
   "metadata": {},
   "outputs": [],
   "source": []
  }
 ],
 "metadata": {
  "kernelspec": {
   "display_name": "Python 3",
   "language": "python",
   "name": "python3"
  },
  "language_info": {
   "codemirror_mode": {
    "name": "ipython",
    "version": 3
   },
   "file_extension": ".py",
   "mimetype": "text/x-python",
   "name": "python",
   "nbconvert_exporter": "python",
   "pygments_lexer": "ipython3",
   "version": "3.6.8"
  }
 },
 "nbformat": 4,
 "nbformat_minor": 2
}
