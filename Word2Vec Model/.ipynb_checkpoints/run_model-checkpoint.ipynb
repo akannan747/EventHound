{
 "cells": [
  {
   "cell_type": "code",
   "execution_count": 1,
   "metadata": {},
   "outputs": [],
   "source": [
    "import gensim, pandas as pd, re\n",
    "model = gensim.models.Word2Vec.load(\"model\")\n",
    "event_data = pd.read_csv('event_data4.csv')\n",
    "descriptions = []\n",
    "\n",
    "for description in event_data[' description']:\n",
    "    description = re.sub(\"[^a-zA-Z]\", \" \", description)\n",
    "    description = description.lower().split()\n",
    "    descriptions += [description]"
   ]
  },
  {
   "cell_type": "code",
   "execution_count": 2,
   "metadata": {},
   "outputs": [],
   "source": [
    "def find_sim_event(query, description):\n",
    "    \n",
    "    sims = model.wv.most_similar(positive = query)\n",
    "    sims = list(zip(*sims))\n",
    "    sim_words = list(sims[0])\n",
    "    sim_words.append(query)\n",
    "    \n",
    "    \n",
    "    description_total = 0\n",
    "\n",
    "        ##finding ones that have similar words\n",
    "    simcount = 0\n",
    "    for sim_word in sim_words:\n",
    "        simcount += description.count(sim_word)\n",
    "    if len(description) > 0:\n",
    "        description_score_sim = simcount/len(description)\n",
    "    else:\n",
    "        description_score_sim = 0\n",
    "    \n",
    "        #### adding similarity across all words\n",
    "    for word in description:\n",
    "        try:\n",
    "            word_score = model.wv.similarity(w1=query, w2=word)\n",
    "        except:\n",
    "            word_score = 0\n",
    "\n",
    "        description_total += word_score\n",
    "    if len(description) > 0:\n",
    "        description_score = description_total\n",
    "    else:\n",
    "        description_score = 0\n",
    "    description_score = description_score*description_score_sim\n",
    "    return description_score\n",
    "    \n",
    "        ##combining both\n",
    "def comb_str_sim(lquery, top):\n",
    "    \n",
    "    event_scores = []\n",
    "    \n",
    "    for i in range(len(descriptions)):\n",
    "        \n",
    "        description = descriptions[i]\n",
    "        score = 0\n",
    "        \n",
    "        for query in lquery:\n",
    "            score += find_sim_event(query, description)\n",
    "        score = score/len(lquery)\n",
    "        if i%200==0:\n",
    "            print(i, ' descriptions searched for the words: ', lquery,'- Only ', (len(descriptions)-i), ' more to go!')\n",
    "        \n",
    "        \n",
    "        event_scores.append((event_data['url'][i], score, event_data[' description'][i]))\n",
    "    event_scores.sort(key=lambda event: event[1], reverse=True)\n",
    "    return(event_scores[:top])\n",
    "    "
   ]
  },
  {
   "cell_type": "code",
   "execution_count": 3,
   "metadata": {},
   "outputs": [
    {
     "name": "stdout",
     "output_type": "stream",
     "text": [
      "0  descriptions searched for the words:  ['basketball', 'game'] - Only  9947  more to go!\n",
      "200  descriptions searched for the words:  ['basketball', 'game'] - Only  9747  more to go!\n",
      "400  descriptions searched for the words:  ['basketball', 'game'] - Only  9547  more to go!\n",
      "600  descriptions searched for the words:  ['basketball', 'game'] - Only  9347  more to go!\n",
      "800  descriptions searched for the words:  ['basketball', 'game'] - Only  9147  more to go!\n",
      "1000  descriptions searched for the words:  ['basketball', 'game'] - Only  8947  more to go!\n",
      "1200  descriptions searched for the words:  ['basketball', 'game'] - Only  8747  more to go!\n",
      "1400  descriptions searched for the words:  ['basketball', 'game'] - Only  8547  more to go!\n",
      "1600  descriptions searched for the words:  ['basketball', 'game'] - Only  8347  more to go!\n",
      "1800  descriptions searched for the words:  ['basketball', 'game'] - Only  8147  more to go!\n",
      "2000  descriptions searched for the words:  ['basketball', 'game'] - Only  7947  more to go!\n",
      "2200  descriptions searched for the words:  ['basketball', 'game'] - Only  7747  more to go!\n",
      "2400  descriptions searched for the words:  ['basketball', 'game'] - Only  7547  more to go!\n",
      "2600  descriptions searched for the words:  ['basketball', 'game'] - Only  7347  more to go!\n",
      "2800  descriptions searched for the words:  ['basketball', 'game'] - Only  7147  more to go!\n",
      "3000  descriptions searched for the words:  ['basketball', 'game'] - Only  6947  more to go!\n",
      "3200  descriptions searched for the words:  ['basketball', 'game'] - Only  6747  more to go!\n",
      "3400  descriptions searched for the words:  ['basketball', 'game'] - Only  6547  more to go!\n",
      "3600  descriptions searched for the words:  ['basketball', 'game'] - Only  6347  more to go!\n",
      "3800  descriptions searched for the words:  ['basketball', 'game'] - Only  6147  more to go!\n",
      "4000  descriptions searched for the words:  ['basketball', 'game'] - Only  5947  more to go!\n",
      "4200  descriptions searched for the words:  ['basketball', 'game'] - Only  5747  more to go!\n",
      "4400  descriptions searched for the words:  ['basketball', 'game'] - Only  5547  more to go!\n",
      "4600  descriptions searched for the words:  ['basketball', 'game'] - Only  5347  more to go!\n",
      "4800  descriptions searched for the words:  ['basketball', 'game'] - Only  5147  more to go!\n",
      "5000  descriptions searched for the words:  ['basketball', 'game'] - Only  4947  more to go!\n",
      "5200  descriptions searched for the words:  ['basketball', 'game'] - Only  4747  more to go!\n",
      "5400  descriptions searched for the words:  ['basketball', 'game'] - Only  4547  more to go!\n",
      "5600  descriptions searched for the words:  ['basketball', 'game'] - Only  4347  more to go!\n",
      "5800  descriptions searched for the words:  ['basketball', 'game'] - Only  4147  more to go!\n",
      "6000  descriptions searched for the words:  ['basketball', 'game'] - Only  3947  more to go!\n",
      "6200  descriptions searched for the words:  ['basketball', 'game'] - Only  3747  more to go!\n",
      "6400  descriptions searched for the words:  ['basketball', 'game'] - Only  3547  more to go!\n",
      "6600  descriptions searched for the words:  ['basketball', 'game'] - Only  3347  more to go!\n",
      "6800  descriptions searched for the words:  ['basketball', 'game'] - Only  3147  more to go!\n",
      "7000  descriptions searched for the words:  ['basketball', 'game'] - Only  2947  more to go!\n",
      "7200  descriptions searched for the words:  ['basketball', 'game'] - Only  2747  more to go!\n",
      "7400  descriptions searched for the words:  ['basketball', 'game'] - Only  2547  more to go!\n",
      "7600  descriptions searched for the words:  ['basketball', 'game'] - Only  2347  more to go!\n",
      "7800  descriptions searched for the words:  ['basketball', 'game'] - Only  2147  more to go!\n",
      "8000  descriptions searched for the words:  ['basketball', 'game'] - Only  1947  more to go!\n",
      "8200  descriptions searched for the words:  ['basketball', 'game'] - Only  1747  more to go!\n",
      "8400  descriptions searched for the words:  ['basketball', 'game'] - Only  1547  more to go!\n",
      "8600  descriptions searched for the words:  ['basketball', 'game'] - Only  1347  more to go!\n",
      "8800  descriptions searched for the words:  ['basketball', 'game'] - Only  1147  more to go!\n",
      "9000  descriptions searched for the words:  ['basketball', 'game'] - Only  947  more to go!\n",
      "9200  descriptions searched for the words:  ['basketball', 'game'] - Only  747  more to go!\n",
      "9400  descriptions searched for the words:  ['basketball', 'game'] - Only  547  more to go!\n",
      "9600  descriptions searched for the words:  ['basketball', 'game'] - Only  347  more to go!\n",
      "9800  descriptions searched for the words:  ['basketball', 'game'] - Only  147  more to go!\n"
     ]
    }
   ],
   "source": [
    "alexaquery = 'basketball game'\n",
    "top_results = 5\n",
    "stringquerylist = alexaquery.split()\n",
    "result = comb_str_sim(stringquerylist,top_results)"
   ]
  },
  {
   "cell_type": "code",
   "execution_count": 8,
   "metadata": {},
   "outputs": [
    {
     "data": {
      "text/plain": [
       "('https://www.eventbrite.com/e/2019-youth-summer-sports-camps-at-sja-tickets-52060139278?aff=ebapi',\n",
       " 'https://www.eventbrite.com/e/game-developer-meetup-tickets-55638747993?aff=ebapi',\n",
       " 'https://www.eventbrite.com.au/e/cluedo-the-interactive-game-2019-tickets-56956295814?aff=ebapi',\n",
       " 'https://www.eventbrite.nl/e/tickets-throne-weekend-56518835358?aff=ebapi',\n",
       " 'https://www.eventbrite.com.au/e/game-changers-in-conversation-with-dr-kirstin-ferguson-tickets-55952655900?aff=ebapi')"
      ]
     },
     "execution_count": 8,
     "metadata": {},
     "output_type": "execute_result"
    }
   ],
   "source": [
    "resultzip = list(zip(*result))\n",
    "urls = resultzip[0]\n",
    "urls"
   ]
  },
  {
   "cell_type": "code",
   "execution_count": null,
   "metadata": {},
   "outputs": [],
   "source": []
  },
  {
   "cell_type": "code",
   "execution_count": null,
   "metadata": {},
   "outputs": [],
   "source": []
  }
 ],
 "metadata": {
  "kernelspec": {
   "display_name": "Python 3",
   "language": "python",
   "name": "python3"
  },
  "language_info": {
   "codemirror_mode": {
    "name": "ipython",
    "version": 3
   },
   "file_extension": ".py",
   "mimetype": "text/x-python",
   "name": "python",
   "nbconvert_exporter": "python",
   "pygments_lexer": "ipython3",
   "version": "3.6.8"
  }
 },
 "nbformat": 4,
 "nbformat_minor": 2
}
