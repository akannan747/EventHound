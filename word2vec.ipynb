{
 "cells": [
  {
   "cell_type": "code",
   "execution_count": 1,
   "metadata": {},
   "outputs": [],
   "source": [
    "# imports needed and logging\n",
    "import gensim, pandas as pd, re\n",
    "\n",
    "event_data = pd.read_csv('event_data4.csv')\n",
    "descriptions = []\n",
    "\n",
    "for description in event_data[' description']:\n",
    "    description = re.sub(\"[^a-zA-Z]\", \" \", description)\n",
    "    description = description.lower().split()\n",
    "    descriptions += [description]"
   ]
  },
  {
   "cell_type": "code",
   "execution_count": 2,
   "metadata": {},
   "outputs": [
    {
     "data": {
      "text/plain": [
       "(17463943, 21652400)"
      ]
     },
     "execution_count": 2,
     "metadata": {},
     "output_type": "execute_result"
    }
   ],
   "source": [
    "model = gensim.models.Word2Vec(descriptions, size=150, window=10, min_count=2, workers=10)  \n",
    "model.train(descriptions, total_examples=len(descriptions), epochs=10)"
   ]
  },
  {
   "cell_type": "code",
   "execution_count": 6,
   "metadata": {},
   "outputs": [
    {
     "data": {
      "text/plain": [
       "[('drinks', 0.6251662969589233),\n",
       " ('specials', 0.5856809616088867),\n",
       " ('beverage', 0.572435200214386),\n",
       " ('beverages', 0.5712428092956543),\n",
       " ('eat', 0.5288940668106079),\n",
       " ('cocktails', 0.4981898069381714),\n",
       " ('delicious', 0.4928640127182007),\n",
       " ('bars', 0.4903261661529541),\n",
       " ('unlimited', 0.48816952109336853),\n",
       " ('menu', 0.48572540283203125)]"
      ]
     },
     "execution_count": 6,
     "metadata": {},
     "output_type": "execute_result"
    }
   ],
   "source": [
    "model.wv.most_similar(positive=['drink'])"
   ]
  }
 ],
 "metadata": {
  "kernelspec": {
   "display_name": "Python 3",
   "language": "python",
   "name": "python3"
  },
  "language_info": {
   "codemirror_mode": {
    "name": "ipython",
    "version": 3
   },
   "file_extension": ".py",
   "mimetype": "text/x-python",
   "name": "python",
   "nbconvert_exporter": "python",
   "pygments_lexer": "ipython3",
   "version": "3.7.1"
  }
 },
 "nbformat": 4,
 "nbformat_minor": 2
}
