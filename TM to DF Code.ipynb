{
 "cells": [
  {
   "cell_type": "code",
   "execution_count": 6,
   "metadata": {},
   "outputs": [
    {
     "name": "stdout",
     "output_type": "stream",
     "text": [
      "27\n"
     ]
    },
    {
     "data": {
      "text/plain": [
       "[' Matt Mauser event                    Music  Other  Other   venueBoxOffice  tmMarketPlace           Cerritos Center venue  Cerritos  California  United States Of America          Matt Mauser attraction               Music  Other  Other   ',\n",
       " ' The Texas Tenors event                    Music  Other  Other   venueBoxOffice  tmMarketPlace           Cerritos Center venue  Cerritos  California  United States Of America          The Texas Tenors attraction               Arts & Theatre  Classical  Symphonic  Undefined  Undefined   ',\n",
       " ' Tower of Power event                    Music  Blues  Jazz Blues   venueBoxOffice  tmMarketPlace           Cerritos Center venue  Cerritos  California  United States Of America          Tower of Power attraction                          Music  R&B  R&B  Undefined  Undefined   ',\n",
       " ' The Secret Garden event                    Arts & Theatre  Miscellaneous  Miscellaneous   venueBoxOffice  tmMarketPlace           Cerritos Center venue  Cerritos  California  United States Of America          The Secret Garden attraction               Arts & Theatre  Theatre  Drama  Undefined  Undefined   ',\n",
       " ' The Secret Garden event                    Arts & Theatre  Miscellaneous  Miscellaneous   venueBoxOffice  tmMarketPlace           Cerritos Center venue  Cerritos  California  United States Of America          The Secret Garden attraction               Arts & Theatre  Theatre  Drama  Undefined  Undefined   ',\n",
       " ' The Secret Garden event                    Arts & Theatre  Miscellaneous  Miscellaneous   venueBoxOffice  tmMarketPlace           Cerritos Center venue  Cerritos  California  United States Of America          The Secret Garden attraction               Arts & Theatre  Theatre  Drama  Undefined  Undefined   ',\n",
       " ' The Secret Garden event                    Arts & Theatre  Miscellaneous  Miscellaneous   venueBoxOffice  tmMarketPlace           Cerritos Center venue  Cerritos  California  United States Of America          The Secret Garden attraction               Arts & Theatre  Theatre  Drama  Undefined  Undefined   ',\n",
       " ' The Secret Garden event                    Arts & Theatre  Miscellaneous  Miscellaneous   venueBoxOffice  tmMarketPlace           Cerritos Center venue  Cerritos  California  United States Of America          The Secret Garden attraction               Arts & Theatre  Theatre  Drama  Undefined  Undefined   ',\n",
       " ' The Secret Garden event                    Arts & Theatre  Miscellaneous  Miscellaneous   venueBoxOffice  tmMarketPlace           Cerritos Center venue  Cerritos  California  United States Of America          The Secret Garden attraction               Arts & Theatre  Theatre  Drama  Undefined  Undefined   ',\n",
       " ' The Secret Garden event                    Arts & Theatre  Miscellaneous  Miscellaneous   venueBoxOffice  tmMarketPlace           Cerritos Center venue  Cerritos  California  United States Of America          The Secret Garden attraction               Arts & Theatre  Theatre  Drama  Undefined  Undefined   ',\n",
       " ' The Secret Garden event                    Arts & Theatre  Miscellaneous  Miscellaneous   venueBoxOffice  tmMarketPlace           Cerritos Center venue  Cerritos  California  United States Of America          The Secret Garden attraction               Arts & Theatre  Theatre  Drama  Undefined  Undefined   ',\n",
       " ' The Secret Garden event                    Arts & Theatre  Miscellaneous  Miscellaneous   venueBoxOffice  tmMarketPlace           Cerritos Center venue  Cerritos  California  United States Of America          The Secret Garden attraction               Arts & Theatre  Theatre  Drama  Undefined  Undefined   ',\n",
       " ' The Secret Garden event                    Arts & Theatre  Miscellaneous  Miscellaneous   tmMarketPlace           Cerritos Center venue  Cerritos  California  United States Of America          The Secret Garden attraction               Arts & Theatre  Theatre  Drama  Undefined  Undefined   ',\n",
       " ' The Secret Garden event                    Arts & Theatre  Miscellaneous  Miscellaneous   tmMarketPlace           Cerritos Center venue  Cerritos  California  United States Of America          The Secret Garden attraction               Arts & Theatre  Theatre  Drama  Undefined  Undefined   ',\n",
       " ' The Secret Garden event                    Arts & Theatre  Miscellaneous  Miscellaneous   tmMarketPlace           Cerritos Center venue  Cerritos  California  United States Of America          The Secret Garden attraction               Arts & Theatre  Theatre  Drama  Undefined  Undefined   ',\n",
       " ' Shrek - The Musical event                    Arts & Theatre  Theatre  Musical   venueBoxOffice  tmMarketPlace           Cerritos Center venue  Cerritos  California  United States Of America          Shrek The Musical attraction               Arts & Theatre  Theatre  Musical  Undefined  Undefined   ',\n",
       " ' Shrek - The Musical event                    Arts & Theatre  Theatre  Musical   venueBoxOffice  tmMarketPlace           Cerritos Center venue  Cerritos  California  United States Of America          Shrek The Musical attraction               Arts & Theatre  Theatre  Musical  Undefined  Undefined   ',\n",
       " ' Shrek - The Musical event                    Arts & Theatre  Theatre  Musical   venueBoxOffice  tmMarketPlace           Cerritos Center venue  Cerritos  California  United States Of America          Shrek The Musical attraction               Arts & Theatre  Theatre  Musical  Undefined  Undefined   ',\n",
       " ' Shrek - The Musical event                    Arts & Theatre  Theatre  Musical   venueBoxOffice  tmMarketPlace           Cerritos Center venue  Cerritos  California  United States Of America          Shrek The Musical attraction               Arts & Theatre  Theatre  Musical  Undefined  Undefined   ',\n",
       " ' Shrek - The Musical event                    Arts & Theatre  Theatre  Musical   venueBoxOffice  tmMarketPlace           Cerritos Center venue  Cerritos  California  United States Of America          Shrek The Musical attraction               Arts & Theatre  Theatre  Musical  Undefined  Undefined   ',\n",
       " ' Shrek - The Musical event                    Arts & Theatre  Theatre  Musical   venueBoxOffice  tmMarketPlace           Cerritos Center venue  Cerritos  California  United States Of America          Shrek The Musical attraction               Arts & Theatre  Theatre  Musical  Undefined  Undefined   ',\n",
       " ' Shrek - The Musical event                    Arts & Theatre  Theatre  Musical   venueBoxOffice  tmMarketPlace           Cerritos Center venue  Cerritos  California  United States Of America          Shrek The Musical attraction               Arts & Theatre  Theatre  Musical  Undefined  Undefined   ',\n",
       " ' Shrek - The Musical event                    Arts & Theatre  Theatre  Musical   venueBoxOffice  tmMarketPlace           Cerritos Center venue  Cerritos  California  United States Of America          Shrek The Musical attraction               Arts & Theatre  Theatre  Musical  Undefined  Undefined   ',\n",
       " ' Shrek - The Musical event                    Arts & Theatre  Theatre  Musical   venueBoxOffice  tmMarketPlace           Cerritos Center venue  Cerritos  California  United States Of America          Shrek The Musical attraction               Arts & Theatre  Theatre  Musical  Undefined  Undefined   ',\n",
       " ' Shrek - The Musical event                    Arts & Theatre  Theatre  Musical   venueBoxOffice  tmMarketPlace           Cerritos Center venue  Cerritos  California  United States Of America          Shrek The Musical attraction               Arts & Theatre  Theatre  Musical  Undefined  Undefined   ',\n",
       " ' Shrek - The Musical event                    Arts & Theatre  Theatre  Musical   venueBoxOffice  tmMarketPlace           Cerritos Center venue  Cerritos  California  United States Of America          Shrek The Musical attraction               Arts & Theatre  Theatre  Musical  Undefined  Undefined   ',\n",
       " ' Shrek - The Musical event                    Arts & Theatre  Theatre  Musical   venueBoxOffice  tmMarketPlace           Cerritos Center venue  Cerritos  California  United States Of America          Shrek The Musical attraction               Arts & Theatre  Theatre  Musical  Undefined  Undefined   ']"
      ]
     },
     "execution_count": 6,
     "metadata": {},
     "output_type": "execute_result"
    }
   ],
   "source": [
    "import ticketpy\n",
    "import pandas as pd\n",
    "import json\n",
    "import time\n",
    "\n",
    "tm_client = ticketpy.ApiClient('SjgiAhawyf9BHELlj9ZmdExRJu94jhMe') #please get ur own api key on Ticket master\n",
    "#this is Rudy's key. They track the number of calls and I don't want this one banned for multiple users.\n",
    "\n",
    "pages = tm_client.events.find(\n",
    "     postalCode = '90703'\n",
    ")\n",
    "i = 0\n",
    "z = []\n",
    "importantitems = ['name','venues','pleasenote', 'type', 'genre', 'subGenre', 'info','pleaseNote','sales', 'classifications']\n",
    "for page in pages:\n",
    "    time.sleep(0.3)\n",
    "    for event in page:\n",
    "        i+=1\n",
    "        x = event.json\n",
    "        z.append(eventdictiter(x))\n",
    "print(i)\n",
    "\n",
    "z\n",
    "\n",
    "        \n",
    "#name, venue name, generalInfo, classifications: not undefined and other, info, pleaseNote\n",
    "#startTime, endTime, Location, status\n",
    "\n",
    "\n",
    "  \n",
    "        "
   ]
  },
  {
   "cell_type": "code",
   "execution_count": 2,
   "metadata": {},
   "outputs": [],
   "source": [
    "def eventdictiter(e):\n",
    "    y = ''\n",
    "    for k, v in e.items():\n",
    "        if isinstance(v, dict):\n",
    "            y += ' ' + eventdictiter(v)\n",
    "        elif isinstance(v, list):\n",
    "            y += ' ' + listiter(v)\n",
    "        elif k in importantitems:\n",
    "            y += ' ' +  v\n",
    "    return y\n",
    "                \n",
    "def listiter(e):\n",
    "    y = ''\n",
    "    for vals in e:\n",
    "        if isinstance(vals, dict):\n",
    "            y += ' ' + eventdictiter(vals)\n",
    "        elif isinstance(vals, list):\n",
    "            y += ' ' + listiter(vals)\n",
    "        elif vals in importantitems:\n",
    "            y += ' ' + vals\n",
    "    return y"
   ]
  },
  {
   "cell_type": "code",
   "execution_count": null,
   "metadata": {},
   "outputs": [],
   "source": [
    "pages = tm_client.events.find(\n",
    "     postalCode = '94704'\n",
    ")\n",
    "importantitems = ['name','venues','pleasenote', 'type', 'genre', 'subGenre', 'info','pleaseNote','sales']\n",
    "for page in pages:\n",
    "    for event in page:\n",
    "        x = event.json\n",
    "        display(x)"
   ]
  },
  {
   "cell_type": "code",
   "execution_count": null,
   "metadata": {},
   "outputs": [],
   "source": []
  },
  {
   "cell_type": "code",
   "execution_count": null,
   "metadata": {},
   "outputs": [],
   "source": []
  }
 ],
 "metadata": {
  "kernelspec": {
   "display_name": "Python 3",
   "language": "python",
   "name": "python3"
  },
  "language_info": {
   "codemirror_mode": {
    "name": "ipython",
    "version": 3
   },
   "file_extension": ".py",
   "mimetype": "text/x-python",
   "name": "python",
   "nbconvert_exporter": "python",
   "pygments_lexer": "ipython3",
   "version": "3.7.1"
  }
 },
 "nbformat": 4,
 "nbformat_minor": 2
}
