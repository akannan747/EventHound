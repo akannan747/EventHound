{
 "cells": [
  {
   "cell_type": "code",
   "execution_count": 1,
   "metadata": {},
   "outputs": [],
   "source": [
    "from flask import Flask\n",
    "from flask_ask import Ask, statement, question, session\n",
    "import json\n",
    "import requests\n",
    "import time\n",
    "import unidecode\n"
   ]
  },
  {
   "cell_type": "code",
   "execution_count": 2,
   "metadata": {},
   "outputs": [],
   "source": [
    "app = Flask(__name__)\n",
    "ask = Ask(app,  '/AlexaTestOne')"
   ]
  },
  {
   "cell_type": "code",
   "execution_count": null,
   "metadata": {},
   "outputs": [],
   "source": []
  },
  {
   "cell_type": "code",
   "execution_count": null,
   "metadata": {},
   "outputs": [
    {
     "name": "stderr",
     "output_type": "stream",
     "text": [
      " * Running on http://127.0.0.1:5000/ (Press CTRL+C to quit)\n",
      "127.0.0.1 - - [05/May/2019 14:00:43] \"\u001b[37mGET / HTTP/1.1\u001b[0m\" 200 -\n"
     ]
    }
   ],
   "source": [
    "def get_headlines():\n",
    "    return 'headline is here!!'\n",
    "    #fill in with actual code\n",
    "\n",
    "@app.route('/')\n",
    "def home_page():\n",
    "    return \"Hi, Welcome to Our App, AlexaTryOneTwo\"\n",
    "\n",
    "@ask.launch\n",
    "def start_skill():\n",
    "    welcome_message = \"Do you want to search for an event?\"\n",
    "    return question(welcome_message)\n",
    "\n",
    "@ask.intent(\"YesIntent\")\n",
    "def share_headlines():\n",
    "    headlines = get_headlines()\n",
    "    return statement(headlines)\n",
    "\n",
    "@ask.intent(\"NoIntent\")\n",
    "def no_intent():\n",
    "    bye_text =\"Why did you call me then?\"\n",
    "    return statement(bye_text)\n",
    "    \n",
    "\n",
    "if __name__ == '__main__':\n",
    "    app.run(debug=False)\n",
    "\n",
    "    "
   ]
  },
  {
   "cell_type": "code",
   "execution_count": null,
   "metadata": {},
   "outputs": [],
   "source": []
  }
 ],
 "metadata": {
  "kernelspec": {
   "display_name": "Python 3",
   "language": "python",
   "name": "python3"
  },
  "language_info": {
   "codemirror_mode": {
    "name": "ipython",
    "version": 3
   },
   "file_extension": ".py",
   "mimetype": "text/x-python",
   "name": "python",
   "nbconvert_exporter": "python",
   "pygments_lexer": "ipython3",
   "version": "3.6.8"
  }
 },
 "nbformat": 4,
 "nbformat_minor": 2
}
